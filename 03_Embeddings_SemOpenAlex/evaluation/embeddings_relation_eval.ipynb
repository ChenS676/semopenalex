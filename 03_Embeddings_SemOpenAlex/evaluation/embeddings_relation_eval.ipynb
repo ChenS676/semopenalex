{
 "cells": [
  {
   "cell_type": "code",
   "execution_count": 1,
   "metadata": {
    "collapsed": false,
    "pycharm": {
     "name": "#%%\n"
    }
   },
   "outputs": [],
   "source": [
    "import pandas as pd\n"
   ]
  },
  {
   "cell_type": "code",
   "execution_count": 2,
   "metadata": {
    "collapsed": false,
    "pycharm": {
     "name": "#%%\n"
    }
   },
   "outputs": [],
   "source": [
    "path = r'C:\\Users\\Johan\\Documents\\_Uni\\MA\\SemOpenAlex_Embeddings\\evaluation_scores\\scores.csv'\n",
    "scores = pd.read_csv(path)\n",
    "# score sheet can be found online in cloud at (200MB .csv file):\n",
    "# https://bwsyncandshare.kit.edu/s/abyYx7eeYbici9o "
   ]
  },
  {
   "cell_type": "code",
   "execution_count": 3,
   "metadata": {
    "collapsed": false,
    "pycharm": {
     "name": "#%%\n"
    }
   },
   "outputs": [
    {
     "name": "stdout",
     "output_type": "stream",
     "text": [
      "           src  rel   dst  rank      score\n",
      "0        13979    5  3832     1  37.761791\n",
      "1         8287    8  7839     1  25.618876\n",
      "2        15454    6  3660     1  45.418560\n",
      "3        15734    6  3660     1  54.675354\n",
      "4         7060    8  6528     1  33.061279\n",
      "...        ...  ...   ...   ...        ...\n",
      "8751683   9508    8  6833     1  20.708166\n",
      "8751684   6222    4  2656    97   1.521463\n",
      "8751685    358    1    93    92   3.540134\n",
      "8751686   4406    8  4408     1  16.181742\n",
      "8751687   4503    7  1410     1  20.477720\n",
      "\n",
      "[8751688 rows x 5 columns]\n"
     ]
    }
   ],
   "source": [
    "print(scores)\n"
   ]
  },
  {
   "cell_type": "code",
   "execution_count": 14,
   "metadata": {
    "collapsed": false,
    "pycharm": {
     "name": "#%%\n"
    }
   },
   "outputs": [],
   "source": [
    "scores = scores.sort_values(by='rel')\n"
   ]
  },
  {
   "cell_type": "code",
   "execution_count": 18,
   "metadata": {
    "collapsed": false,
    "pycharm": {
     "name": "#%%\n"
    }
   },
   "outputs": [
    {
     "name": "stdout",
     "output_type": "stream",
     "text": [
      "{'0': 93777017, '1': 6129525, '2': 217, '3': 88, '4': 30062959, '5': 24707526, '6': 15204605, '7': 69819641, '8': 5481393, '9': 1820040}\n",
      "{'0': 23082285.503640465, '1': 2214001.7303160094, '2': 18255.953045, '3': 5694.403250000001, '4': 57494394.56945094, '5': 13364018.162700392, '6': 9852325.757051086, '7': 19142996.285123285, '8': 70874175.14581406, '9': 5660172.6206100695}\n"
     ]
    }
   ],
   "source": [
    "rank_avg_dict = {}\n",
    "score_avg_dict = {}\n",
    "\n",
    "for i in range(10):\n",
    "    rank_avg_dict[str(i)] = 0\n",
    "    score_avg_dict[str(i)] = 0\n",
    "\n",
    "for l in scores.index:\n",
    "    rank_avg_dict[str(scores['rel'][l])] += scores['rank'][l]\n",
    "    score_avg_dict[str(scores['rel'][l])] += scores['score'][l]\n",
    "\n",
    "print(rank_avg_dict)\n",
    "print(score_avg_dict)"
   ]
  },
  {
   "cell_type": "code",
   "execution_count": 22,
   "metadata": {
    "collapsed": false,
    "pycharm": {
     "name": "#%%\n"
    }
   },
   "outputs": [
    {
     "name": "stdout",
     "output_type": "stream",
     "text": [
      "{'0': 94.32390701286056, '1': 42.38190228589603, '2': 1.0333333333333334, '3': 1.0, '4': 14.97037044783195, '5': 51.128046055027646, '6': 44.15373915366656, '7': 57.766919787795246, '8': 1.6542018422159706, '9': 7.150535099712413}\n",
      "{'0': 23.21689707286896, '1': 15.308462726729699, '2': 86.93310973809523, '3': 64.7091278409091, '4': 28.630328284667456, '5': 27.654575213348824, '6': 28.610872925260736, '7': 15.83840757503722, '8': 21.388758494737193, '9': 22.237567852411757}\n"
     ]
    }
   ],
   "source": [
    "rank_avg_dict_averaged = {}\n",
    "score_avg_dict_averaged = {}\n",
    "\n",
    "for i in range(10):\n",
    "    rank_avg_dict_averaged[str(i)] = rank_avg_dict[str(i)]/ scores.groupby(['rel']).size()[i]\n",
    "    score_avg_dict_averaged[str(i)] = score_avg_dict[str(i)]/ scores.groupby(['rel']).size()[i]\n",
    "\n",
    "print(rank_avg_dict_averaged)\n",
    "print(score_avg_dict_averaged)"
   ]
  },
  {
   "cell_type": "code",
   "execution_count": 29,
   "metadata": {
    "collapsed": false,
    "pycharm": {
     "name": "#%%\n"
    }
   },
   "outputs": [
    {
     "name": "stdout",
     "output_type": "stream",
     "text": [
      "3.0\n",
      "1.0\n",
      "1.0\n",
      "1.0\n",
      "1.0\n",
      "1.0\n",
      "1.0\n",
      "2.0\n",
      "1.0\n",
      "1.0\n"
     ]
    }
   ],
   "source": [
    "# median\n",
    "for i in range(10):\n",
    "    print(scores[scores['rel'].values == i]['rank'].median())"
   ]
  },
  {
   "cell_type": "code",
   "execution_count": 35,
   "metadata": {
    "collapsed": false,
    "pycharm": {
     "name": "#%%\n"
    }
   },
   "outputs": [
    {
     "name": "stdout",
     "output_type": "stream",
     "text": [
      "209.0\n",
      "51.0\n",
      "1.0\n",
      "1.0\n",
      "15.0\n",
      "96.0\n",
      "83.0\n",
      "83.0\n",
      "1.0\n",
      "2.0\n"
     ]
    }
   ],
   "source": [
    "# 0.75 quantile\n",
    "for i in range(10):\n",
    "    print(scores[scores['rel'].values == i]['rank'].quantile(0.75))"
   ]
  },
  {
   "cell_type": "code",
   "execution_count": 11,
   "metadata": {
    "collapsed": false,
    "pycharm": {
     "name": "#%%\n"
    }
   },
   "outputs": [
    {
     "name": "stdout",
     "output_type": "stream",
     "text": [
      "           src  rel   dst  rank      score\n",
      "1741133   2510    0     0   501 -11.083983\n",
      "152480    2993    0     0    89   1.171823\n",
      "1394673  13750    0  3567    89   1.628414\n",
      "199925   10781    0  3610    89   1.636436\n",
      "4992019  16246    0  3702    89   1.645395\n",
      "...        ...  ...   ...   ...        ...\n",
      "410231    9964    9  3428    99   2.570858\n",
      "8073932   4770    9  3495     2  10.349072\n",
      "656511   13834    9  3467     1  10.249031\n",
      "4605105  15687    9  3407     1  37.639824\n",
      "6656413  17431    9  3550     3   7.720233\n",
      "\n",
      "[8751688 rows x 5 columns]\n"
     ]
    }
   ],
   "source": [
    "print(scores)\n"
   ]
  },
  {
   "cell_type": "code",
   "execution_count": null,
   "metadata": {
    "collapsed": false,
    "pycharm": {
     "name": "#%%\n"
    }
   },
   "outputs": [],
   "source": [
    "\"\"\"                             avg. rank | avg. score | median | 0.75 quantile\n",
    "0\tn2:type                         94.32 | 23.22      | 3      | 209\n",
    "1\tn4:memberOf                     42.38 | 15.31      | 1      | 51\n",
    "2\tn6:countryCode                   1.03 | 86.93      | 1      | 1\n",
    "3\tn7:hasAssociatedInstitution      1.00 | 64.71      | 1      | 1\n",
    "4\tn7:hasConcept                   14.97 | 28.63      | 1      | 15\n",
    "5\tn11:hasPublicationYear          51.13 | 27.65      | 1      | 96\n",
    "6\tn7:crossrefType                 44.15 | 28.61      | 1      | 83\n",
    "7\tn7:hasAuthor                    57.77 | 15.84      | 2      | 83\n",
    "8\tn12:cites                        1.65 | 21.39      | 1      | 1\n",
    "9\tn7:hasHostVenue                  7.15 | 22.24      | 1      | 2\n",
    "\"\"\"\n"
   ]
  },
  {
   "cell_type": "code",
   "execution_count": 34,
   "metadata": {
    "collapsed": false,
    "pycharm": {
     "name": "#%%\n"
    }
   },
   "outputs": [
    {
     "data": {
      "text/plain": [
       "rel\n",
       "0     994202\n",
       "1     144626\n",
       "2        210\n",
       "3         88\n",
       "4    2008164\n",
       "5     483248\n",
       "6     344356\n",
       "7    1208644\n",
       "8    3313618\n",
       "9     254532\n",
       "dtype: int64"
      ]
     },
     "execution_count": 34,
     "metadata": {},
     "output_type": "execute_result"
    }
   ],
   "source": [
    "scores.groupby(['rel']).size()"
   ]
  },
  {
   "cell_type": "code",
   "execution_count": null,
   "metadata": {
    "collapsed": false,
    "pycharm": {
     "name": "#%%\n"
    }
   },
   "outputs": [],
   "source": []
  }
 ],
 "metadata": {
  "kernelspec": {
   "display_name": "Python 3.7.4 ('base')",
   "language": "python",
   "name": "python3"
  },
  "language_info": {
   "codemirror_mode": {
    "name": "ipython",
    "version": 2
   },
   "file_extension": ".py",
   "mimetype": "text/x-python",
   "name": "python",
   "nbconvert_exporter": "python",
   "pygments_lexer": "ipython2",
   "version": "3.7.4"
  },
  "vscode": {
   "interpreter": {
    "hash": "ad2bdc8ecc057115af97d19610ffacc2b4e99fae6737bb82f5d7fb13d2f2c186"
   }
  }
 },
 "nbformat": 4,
 "nbformat_minor": 0
}
