{
 "cells": [
  {
   "cell_type": "code",
   "execution_count": 1,
   "metadata": {
    "collapsed": false,
    "pycharm": {
     "name": "#%%\n"
    }
   },
   "outputs": [],
   "source": [
    "import requests\n",
    "import json\n",
    "from numerize import numerize\n",
    "from matplotlib import pyplot as plt"
   ]
  },
  {
   "cell_type": "code",
   "execution_count": 2,
   "metadata": {
    "collapsed": false,
    "pycharm": {
     "name": "#%%\n"
    }
   },
   "outputs": [],
   "source": [
    "polite = 'mailto=udevz@student.kit.edu'"
   ]
  },
  {
   "cell_type": "code",
   "execution_count": 3,
   "metadata": {
    "collapsed": false,
    "pycharm": {
     "name": "#%%\n"
    }
   },
   "outputs": [],
   "source": [
    "# define request function for convenience.\n",
    "# Concatenates request and polite header, sends request and returns response in JSON\n",
    "\n",
    "def request(api_call):\n",
    "    req_string = str(api_call+'&'+polite)\n",
    "    req = requests.get(req_string)\n",
    "    if req.status_code == 200:\n",
    "        return req.json()\n",
    "    else:\n",
    "        print('Request not successful ', req.status_code)\n",
    "        return"
   ]
  },
  {
   "cell_type": "code",
   "execution_count": 4,
   "metadata": {
    "collapsed": false,
    "pycharm": {
     "name": "#%%\n"
    }
   },
   "outputs": [],
   "source": [
    "def random_venue():\n",
    "    return request('https://api.openalex.org/venues/random?')"
   ]
  },
  {
   "cell_type": "code",
   "execution_count": 6,
   "metadata": {
    "collapsed": false,
    "pycharm": {
     "name": "#%%\n"
    }
   },
   "outputs": [
    {
     "data": {
      "text/plain": [
       "{'id': 'https://openalex.org/V4306499115',\n",
       " 'issn_l': None,\n",
       " 'issn': None,\n",
       " 'display_name': \"28th Linear Accelerator Conf. (LINAC'16), East Lansing, MI, USA, 25-30 September 2016\",\n",
       " 'publisher': None,\n",
       " 'works_count': 243,\n",
       " 'cited_by_count': 95,\n",
       " 'is_oa': None,\n",
       " 'is_in_doaj': None,\n",
       " 'homepage_url': None,\n",
       " 'ids': {'openalex': 'https://openalex.org/V4306499115'},\n",
       " 'x_concepts': [{'id': 'https://openalex.org/C121332964',\n",
       "   'wikidata': 'https://www.wikidata.org/wiki/Q413',\n",
       "   'display_name': 'Physics',\n",
       "   'level': 0,\n",
       "   'score': 77.4},\n",
       "  {'id': 'https://openalex.org/C127413603',\n",
       "   'wikidata': 'https://www.wikidata.org/wiki/Q11023',\n",
       "   'display_name': 'Engineering',\n",
       "   'level': 0,\n",
       "   'score': 60.1},\n",
       "  {'id': 'https://openalex.org/C62520636',\n",
       "   'wikidata': 'https://www.wikidata.org/wiki/Q944',\n",
       "   'display_name': 'Quantum mechanics',\n",
       "   'level': 1,\n",
       "   'score': 51.4},\n",
       "  {'id': 'https://openalex.org/C41008148',\n",
       "   'wikidata': 'https://www.wikidata.org/wiki/Q21198',\n",
       "   'display_name': 'Computer science',\n",
       "   'level': 0,\n",
       "   'score': 44.0},\n",
       "  {'id': 'https://openalex.org/C120665830',\n",
       "   'wikidata': 'https://www.wikidata.org/wiki/Q14620',\n",
       "   'display_name': 'Optics',\n",
       "   'level': 1,\n",
       "   'score': 42.8},\n",
       "  {'id': 'https://openalex.org/C66938386',\n",
       "   'wikidata': 'https://www.wikidata.org/wiki/Q633538',\n",
       "   'display_name': 'Structural engineering',\n",
       "   'level': 1,\n",
       "   'score': 37.0},\n",
       "  {'id': 'https://openalex.org/C147176958',\n",
       "   'wikidata': 'https://www.wikidata.org/wiki/Q77590',\n",
       "   'display_name': 'Civil engineering',\n",
       "   'level': 1,\n",
       "   'score': 35.8},\n",
       "  {'id': 'https://openalex.org/C168834538',\n",
       "   'wikidata': 'https://www.wikidata.org/wiki/Q3705329',\n",
       "   'display_name': 'Beam (structure)',\n",
       "   'level': 2,\n",
       "   'score': 35.4},\n",
       "  {'id': 'https://openalex.org/C192562407',\n",
       "   'wikidata': 'https://www.wikidata.org/wiki/Q228736',\n",
       "   'display_name': 'Materials science',\n",
       "   'level': 0,\n",
       "   'score': 26.7},\n",
       "  {'id': 'https://openalex.org/C185544564',\n",
       "   'wikidata': 'https://www.wikidata.org/wiki/Q81197',\n",
       "   'display_name': 'Nuclear physics',\n",
       "   'level': 1,\n",
       "   'score': 25.5},\n",
       "  {'id': 'https://openalex.org/C180048950',\n",
       "   'wikidata': 'https://www.wikidata.org/wiki/Q836828',\n",
       "   'display_name': 'Linear particle accelerator',\n",
       "   'level': 3,\n",
       "   'score': 24.3}],\n",
       " 'counts_by_year': [{'year': 2022, 'works_count': 0, 'cited_by_count': 6},\n",
       "  {'year': 2021, 'works_count': 0, 'cited_by_count': 19},\n",
       "  {'year': 2020, 'works_count': 0, 'cited_by_count': 17},\n",
       "  {'year': 2019, 'works_count': 0, 'cited_by_count': 19},\n",
       "  {'year': 2018, 'works_count': 0, 'cited_by_count': 20},\n",
       "  {'year': 2017, 'works_count': 242, 'cited_by_count': 9},\n",
       "  {'year': 2016, 'works_count': 1, 'cited_by_count': 2},\n",
       "  {'year': 2015, 'works_count': 0, 'cited_by_count': 1},\n",
       "  {'year': 2012, 'works_count': 0, 'cited_by_count': 1}],\n",
       " 'works_api_url': 'https://api.openalex.org/works?filter=host_venue.id:V4306499115',\n",
       " 'updated_date': '2022-10-21T16:56:26.382570',\n",
       " 'created_date': '2022-10-17'}"
      ]
     },
     "execution_count": 6,
     "metadata": {},
     "output_type": "execute_result"
    }
   ],
   "source": [
    "random_venue()"
   ]
  },
  {
   "cell_type": "code",
   "execution_count": 6,
   "metadata": {
    "collapsed": false,
    "pycharm": {
     "name": "#%%\n"
    }
   },
   "outputs": [
    {
     "name": "stdout",
     "output_type": "stream",
     "text": [
      "Venues count total:  227.02K\n",
      "Venues count total:  227016\n"
     ]
    }
   ],
   "source": [
    "# check institutions total count\n",
    "req_json = request('https://api.openalex.org/venues?')\n",
    "total_count = req_json['meta']['count']\n",
    "print('Venues count total: ',numerize.numerize(total_count)) # ~124.07K am 24. Juni\n",
    "print('Venues count total: ',total_count)"
   ]
  },
  {
   "cell_type": "code",
   "execution_count": 8,
   "metadata": {
    "collapsed": false,
    "pycharm": {
     "name": "#%%\n"
    }
   },
   "outputs": [
    {
     "data": {
      "text/plain": [
       "{'unknown': 110307,\n",
       " 'springer nature': 4327,\n",
       " 'elsevier': 4269,\n",
       " 'informa': 3824,\n",
       " 'wiley': 2426,\n",
       " 'sage': 1557,\n",
       " 'de gruyter': 972,\n",
       " 'hindawi limited': 696,\n",
       " 'cambridge university press': 606,\n",
       " 'oxford university press': 568,\n",
       " 'omics publishing group': 499,\n",
       " 'emerald (mcb up)': 489,\n",
       " 'cairn': 469,\n",
       " 'medknow publications': 467,\n",
       " 'inderscience enterprises ltd.': 456,\n",
       " 'jstor': 448,\n",
       " 'bentham science': 445,\n",
       " 'openedition': 437,\n",
       " 'brill': 411,\n",
       " 'institute of electrical and electronics engineers': 405,\n",
       " 'african journals online': 399,\n",
       " 'mdpi ag': 387,\n",
       " 'ovid technologies (wolters kluwer)': 367,\n",
       " 'techknowledge general trading llc': 338,\n",
       " 'persee program': 333,\n",
       " 'scielo': 315,\n",
       " 'georg thieme verlag kg': 306,\n",
       " 'egypts presidential specialized council for education and scientific research': 264,\n",
       " 'scientific research publishing, inc.': 248,\n",
       " 'nepal journals online': 227,\n",
       " 'igi global': 225,\n",
       " 's. karger ag': 211,\n",
       " 'armenian green publishing co.': 204,\n",
       " 'science publishing group': 204,\n",
       " 'world scientific': 183,\n",
       " 'centre for evaluation in education and science': 182,\n",
       " 'diva enterprises private limited': 180,\n",
       " 'mary ann liebert': 172,\n",
       " 'consortium erudit': 166,\n",
       " 'philosophy documentation center': 158,\n",
       " 'universidade de sao paulo, agencia usp de gestao da informacao academica (aguia)': 156,\n",
       " 'the university of chicago press': 155,\n",
       " 'bangladesh journals online': 146,\n",
       " 'association for computing machinery': 139,\n",
       " 'edp sciences': 134,\n",
       " 'open access text': 134,\n",
       " 'hans publishers': 133,\n",
       " 'smithsonian institution biodiversity heritage library': 133,\n",
       " 'dove medical press': 132,\n",
       " 'index copernicus international': 132,\n",
       " 'frontiers media sa': 130,\n",
       " 'bioinfo publications': 127,\n",
       " 'iop publishing': 126,\n",
       " 'sri lanka journals online': 126,\n",
       " 'american psychological association': 124,\n",
       " 'austin publishing group': 124,\n",
       " 'institution of electrical engineers': 121,\n",
       " 'common ground research networks': 119,\n",
       " 'intellect': 117,\n",
       " 'science alert': 116,\n",
       " 'academic journals': 113,\n",
       " 'universitas negeri semarang': 111,\n",
       " 'universitas pendidikan ganesha': 111,\n",
       " 'institute of research and community services diponegoro university (lppm undip)': 110,\n",
       " 'portico': 110,\n",
       " 'john benjamins publishing company': 107,\n",
       " 'scitechnol biosoft pvt. ltd (omics)': 106,\n",
       " 'universitas gadjah mada': 106,\n",
       " 'scopemed': 105,\n",
       " 'franco angeli': 104,\n",
       " 'ios press': 104,\n",
       " 'universitas airlangga': 103,\n",
       " 'national academy of sciences of ukraine (co. ltd ukrinformnauka)': 100,\n",
       " 'american chemical society': 98,\n",
       " 'the royal society of chemistry': 98,\n",
       " 'brawijaya university': 95,\n",
       " 'universidad complutense de madrid': 95,\n",
       " 'universitas mataram': 94,\n",
       " 'escipub llc': 93,\n",
       " 'peertechz publications private limited': 93,\n",
       " 'medcrave group': 91,\n",
       " 'universidad nacional autonoma de mexico': 91,\n",
       " 'bmj': 90,\n",
       " 'ecorfan': 90,\n",
       " 'the japan society of mechanical engineers': 90,\n",
       " 'universitas sebelas maret': 89,\n",
       " 'pagepress publications': 88,\n",
       " 'open access pub': 86,\n",
       " 'project muse': 86,\n",
       " 'sciencedomain international': 86,\n",
       " 'academy and industry research collaboration center': 85,\n",
       " 'consortium elearning network pvt ltd': 85,\n",
       " 'universitas udayana': 85,\n",
       " 'akinik publications': 84,\n",
       " 'internet scientific publishers, llc': 82,\n",
       " 'istanbul university': 82,\n",
       " 'china science publishing & media ltd.': 81,\n",
       " 'herbert publications': 81,\n",
       " 'state university of medan': 81,\n",
       " 'universitas negeri padang (unp)': 80,\n",
       " 'uniwersytet mikolaja kopernika/nicolaus copernicus university': 79,\n",
       " 'international monetary fund': 78,\n",
       " 'universitas pendidikan indonesia': 78,\n",
       " 'even3': 77,\n",
       " 'knowledge e': 77,\n",
       " 'morgan & claypool': 77,\n",
       " 'scientific and academic publishing': 77,\n",
       " 'universitas padjadjaran': 77,\n",
       " 'adam mickiewicz university poznan': 75,\n",
       " 'american society of civil engineers': 75,\n",
       " 'pleiades publishing': 74,\n",
       " 'akademiai kiado zrt.': 73,\n",
       " 'aarhus university library': 72,\n",
       " 'scandinavian university press / universitetsforlaget as': 72,\n",
       " 'universitas negeri jakarta': 72,\n",
       " 'ame publishing company': 71,\n",
       " 'boom uitgevers den haag': 70,\n",
       " 'gavin publishers': 70,\n",
       " 'spage.direct': 70,\n",
       " 'universitas negeri yogyakarta': 70,\n",
       " 'center for journal management and publication, lambung mangkurat university': 69,\n",
       " 'clinmed international library': 69,\n",
       " 'juniper publishers': 69,\n",
       " 'marwah infotech': 69,\n",
       " 'the pennsylvania state university press': 69,\n",
       " 'universitas islam negeri alauddin makassar': 69,\n",
       " 'universitas lampung': 69,\n",
       " 'uniwersytet jagiellonski â€“ wydawnictwo uniwersytetu jagiellonskiego': 69,\n",
       " 'gn1 genesis network': 68,\n",
       " 'sunan gunung djati state islamic university of bandung': 68,\n",
       " 'asos yayinevi': 66,\n",
       " 'conscientia beam': 66,\n",
       " 'european centre for research training and development': 66,\n",
       " 'herald scholarly open access': 66,\n",
       " 'jaypee brothers medical publishing': 66,\n",
       " 'medwin publishers': 66,\n",
       " 'the russian academy of sciences': 66,\n",
       " 'duke university press': 65,\n",
       " 'state university of malang (um)': 65,\n",
       " 'universidade do estado do rio de janeiro uerj': 65,\n",
       " 'american scientific publishers': 64,\n",
       " 'annual reviews': 64,\n",
       " 'university of california press': 64,\n",
       " 'edinburgh university press': 63,\n",
       " 'national library of serbia': 63,\n",
       " 'nb-media, ltd.': 63,\n",
       " 'universidad nacional de la plata': 63,\n",
       " \"al-jami'ah research centre\": 62,\n",
       " 'ip innovative publication pvt ltd': 62,\n",
       " 'kowsar medical institute': 62,\n",
       " 'ubiquity press, ltd.': 62,\n",
       " 'brepols publishers, nv': 60,\n",
       " 'sciscan publishing limited': 60,\n",
       " 'universidade federal do parana': 60,\n",
       " 'aves publishing co.': 59,\n",
       " 'latin america journals online': 59,\n",
       " 'national and university library of the republic of srpska': 59,\n",
       " 'nomos verlag': 59,\n",
       " 'pensoft publishers': 59,\n",
       " 'universitas andalas': 59,\n",
       " 'upt penerbitan universitas jember': 59,\n",
       " 'global vision press': 58,\n",
       " 'universitas muhammadiyah malang': 58,\n",
       " 'equinox publishing': 57,\n",
       " 'escholarship publishing': 57,\n",
       " 'mark allen group': 57,\n",
       " 'tanjungpura university': 57,\n",
       " 'hogrefe publishing group': 56,\n",
       " 'lp2m universitas islam negeri (uin) syarif hidayatullah jakarta': 56,\n",
       " 'universidad nacional de colombia': 56,\n",
       " 'uniwersytet lodzki (university of lodz)': 56,\n",
       " 'edizioni minerva medica': 55,\n",
       " 'institut pertanian bogor': 55,\n",
       " 'taras shevchenko national university of kyiv': 55,\n",
       " 'universitas islam negeri sultan syarif kasim riau': 55,\n",
       " 'horizon research publishing co., ltd.': 54,\n",
       " 'ibima publishing': 54,\n",
       " 'national documentation centre (ekt)': 54,\n",
       " 'sophia publishing group, inc.': 54,\n",
       " 'academic publishing house researcher': 53,\n",
       " 'universitas negeri makassar': 53,\n",
       " 'university of alberta libraries': 53,\n",
       " 'crimson publishers': 52,\n",
       " 'universe scientific publishing pte. ltd.': 52,\n",
       " 'american research institute for policy development': 51,\n",
       " 'babes-bolyai university': 51,\n",
       " 'faculty of education and teacher training, jambi university': 51,\n",
       " 'infra-m academic publishing house': 51,\n",
       " 'universitas islam indonesia (islamic university of indonesia)': 51,\n",
       " 'galenos yayinevi': 50,\n",
       " 'peeters publishers': 50,\n",
       " 'universitas pamulang': 50,\n",
       " 'ankara university': 49,\n",
       " 'crossref test': 49,\n",
       " 'berghahn books': 48,\n",
       " 'david publishing company': 48,\n",
       " 'edicions de la universitat de barcelona': 48,\n",
       " 'red flower publication private, ltd.': 48,\n",
       " 'the publishing group jurist': 48,\n",
       " 'thomas telford ltd.': 48}"
      ]
     },
     "execution_count": 8,
     "metadata": {},
     "output_type": "execute_result"
    }
   ],
   "source": [
    "req_json = request('https://api.openalex.org/venues?group_by=publisher')\n",
    "venue_publisher_count = {}\n",
    "for item in req_json['group_by']:\n",
    "    venue_publisher_count[item['key_display_name']] = item['count']\n",
    "venue_publisher_count\n",
    "# a lot of unknowns!"
   ]
  },
  {
   "cell_type": "code",
   "execution_count": 9,
   "metadata": {
    "collapsed": false,
    "pycharm": {
     "name": "#%%\n"
    }
   },
   "outputs": [
    {
     "data": {
      "text/plain": [
       "{'meta': {'count': 2, 'db_response_time_ms': 20, 'page': 1, 'per_page': 200},\n",
       " 'results': [],\n",
       " 'group_by': [{'key': 'true', 'key_display_name': 'true', 'count': 112141},\n",
       "  {'key': 'false', 'key_display_name': 'false', 'count': 11932}]}"
      ]
     },
     "execution_count": 9,
     "metadata": {},
     "output_type": "execute_result"
    }
   ],
   "source": [
    "request('https://api.openalex.org/venues?group_by=has_issn')"
   ]
  },
  {
   "cell_type": "code",
   "execution_count": null,
   "metadata": {
    "collapsed": false,
    "pycharm": {
     "name": "#%%\n"
    }
   },
   "outputs": [],
   "source": [
    "# how many venues have an ISSN?\n",
    "req_json = request('https://api.openalex.org/venues?filter=has_issn:true')\n",
    "print('Venues that have an ISSN:',numerize.numerize(req_json['meta']['count'])) # ~112.14K on 23. June\n",
    "print('That is',numerize.numerize(100*req_json['meta']['count']/request('https://api.openalex.org/venues?')['meta']['count']), '% of all venues')\n"
   ]
  },
  {
   "cell_type": "code",
   "execution_count": null,
   "metadata": {
    "collapsed": false,
    "pycharm": {
     "name": "#%%\n"
    }
   },
   "outputs": [],
   "source": [
    "req_json = request('https://api.openalex.org/venues?filter=is_oa:true')\n",
    "print('Venues labeled as open access:',numerize.numerize(req_json['meta']['count']))\n",
    "print(req_json['meta']['count'])\n",
    "print('That is',numerize.numerize(100*req_json['meta']['count']/request('https://api.openalex.org/venues?')['meta']['count']), '% of all venues')"
   ]
  },
  {
   "cell_type": "code",
   "execution_count": null,
   "metadata": {
    "collapsed": false,
    "pycharm": {
     "name": "#%%\n"
    }
   },
   "outputs": [],
   "source": [
    "req_json = request('https://api.openalex.org/venues?filter=is_in_doaj:true')\n",
    "print('Venues labeled as in DOAJ:',numerize.numerize(req_json['meta']['count']))\n",
    "print(req_json['meta']['count'])\n",
    "print('That is',numerize.numerize(100*req_json['meta']['count']/request('https://api.openalex.org/venues?')['meta']['count']), '% of all venues')"
   ]
  },
  {
   "cell_type": "code",
   "execution_count": null,
   "metadata": {
    "collapsed": false,
    "pycharm": {
     "name": "#%%\n"
    }
   },
   "outputs": [],
   "source": [
    "# check open access for all venues\n",
    "req_json = request('https://api.openalex.org/venues?group_by=is_oa')\n",
    "\n",
    "oa_status_count={}\n",
    "for oa_status in req_json['group_by']:\n",
    "    oa_status_count[oa_status['key_display_name']] = oa_status['count']\n",
    "print(oa_status_count)\n",
    "\n",
    "plt.bar(range(len(oa_status_count)), list(oa_status_count.values()), tick_label=list(oa_status_count.keys()))\n",
    "plt.title('Distribution of open access venues')\n",
    "plt.xlabel('Status')\n",
    "plt.ylabel('Count')\n",
    "plt.gcf().set_size_inches((9, 3))\n",
    "plt.show()"
   ]
  },
  {
   "cell_type": "code",
   "execution_count": null,
   "metadata": {
    "collapsed": false,
    "pycharm": {
     "name": "#%%\n"
    }
   },
   "outputs": [],
   "source": [
    "# top 5 output venues\n",
    "req_json = request('https://api.openalex.org/venues?sort=works_count:desc')\n",
    "for top5 in req_json['results'][:10]:\n",
    "    print(top5['display_name'],':',top5['works_count'])"
   ]
  },
  {
   "cell_type": "code",
   "execution_count": 14,
   "metadata": {
    "collapsed": false,
    "pycharm": {
     "name": "#%%\n"
    }
   },
   "outputs": [
    {
     "name": "stdout",
     "output_type": "stream",
     "text": [
      "Nature : works count:  433660 : \n",
      "total cit. count :  20144629  : avg cit. : 46.45\n",
      "###\n",
      "Proceedings of the National Academy of Sciences of the United States of America : works count:  157069 : \n",
      "total cit. count :  17813834  : avg cit. : 113.41\n",
      "###\n",
      "Science : works count:  380574 : \n",
      "total cit. count :  17487597  : avg cit. : 45.95\n",
      "###\n",
      "Journal of Biological Chemistry : works count:  205102 : \n",
      "total cit. count :  14596092  : avg cit. : 71.17\n",
      "###\n",
      "Journal of the American Chemical Society : works count:  206081 : \n",
      "total cit. count :  12223811  : avg cit. : 59.32\n",
      "###\n"
     ]
    }
   ],
   "source": [
    "# top 5 cited venues\n",
    "req_json = request('https://api.openalex.org/venues?sort=cited_by_count:desc')\n",
    "for top5 in req_json['results'][:5]:\n",
    "    print(top5['display_name'],': works count: ',top5['works_count'], \": \\ntotal cit. count : \",top5['cited_by_count'], ' : avg cit. :',numerize.numerize(top5['cited_by_count']/top5['works_count']))\n",
    "    print(\"###\")"
   ]
  },
  {
   "cell_type": "code",
   "execution_count": null,
   "metadata": {
    "collapsed": false,
    "pycharm": {
     "name": "#%%\n"
    }
   },
   "outputs": [],
   "source": [
    "req_json = request('https://api.openalex.org/venues?filter=works_count:0')\n",
    "print('Venues that have 0 works associated:',numerize.numerize(req_json['meta']['count']))\n",
    "print(req_json['meta']['count'])\n",
    "print('That is',numerize.numerize(100*req_json['meta']['count']/request('https://api.openalex.org/venues?')['meta']['count']), '% of all venues')"
   ]
  },
  {
   "cell_type": "code",
   "execution_count": null,
   "metadata": {
    "collapsed": false,
    "pycharm": {
     "name": "#%%\n"
    }
   },
   "outputs": [],
   "source": [
    "req_json = request('https://api.openalex.org/venues?filter=cited_by_count:0')\n",
    "print('Venues that have been cited 0 times:',numerize.numerize(req_json['meta']['count']))\n",
    "print(req_json['meta']['count'])\n",
    "print('That is',numerize.numerize(100*req_json['meta']['count']/request('https://api.openalex.org/venues?')['meta']['count']), '% of all venues')"
   ]
  },
  {
   "cell_type": "code",
   "execution_count": null,
   "metadata": {
    "collapsed": false,
    "pycharm": {
     "name": "#%%\n"
    }
   },
   "outputs": [],
   "source": []
  }
 ],
 "metadata": {
  "kernelspec": {
   "display_name": "Python 3",
   "language": "python",
   "name": "python3"
  },
  "language_info": {
   "codemirror_mode": {
    "name": "ipython",
    "version": 2
   },
   "file_extension": ".py",
   "mimetype": "text/x-python",
   "name": "python",
   "nbconvert_exporter": "python",
   "pygments_lexer": "ipython2",
   "version": "2.7.6"
  }
 },
 "nbformat": 4,
 "nbformat_minor": 0
}
