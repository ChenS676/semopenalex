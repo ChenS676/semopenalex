{
 "cells": [
  {
   "cell_type": "code",
   "execution_count": 1,
   "metadata": {
    "collapsed": false,
    "pycharm": {
     "name": "#%%\n"
    }
   },
   "outputs": [],
   "source": [
    "import requests\n",
    "import json\n",
    "from numerize import numerize"
   ]
  },
  {
   "cell_type": "code",
   "execution_count": 2,
   "metadata": {
    "collapsed": false,
    "pycharm": {
     "name": "#%%\n"
    }
   },
   "outputs": [],
   "source": [
    "polite = 'mailto=udevz@student.kit.edu'"
   ]
  },
  {
   "cell_type": "code",
   "execution_count": 3,
   "metadata": {
    "collapsed": false,
    "pycharm": {
     "name": "#%%\n"
    }
   },
   "outputs": [],
   "source": [
    "# search for specific type and using a search phrase, then retrieve author's works url and display the titles of his/her works\n",
    "wanted_type = ['works','authors','venues','institutions','concepts']"
   ]
  },
  {
   "cell_type": "code",
   "execution_count": 4,
   "metadata": {
    "collapsed": false,
    "pycharm": {
     "name": "#%%\n"
    }
   },
   "outputs": [],
   "source": [
    "# define request function for convenience.\n",
    "# Concatenates request and polite header, sends request and returns response in JSON\n",
    "\n",
    "def request(api_call):\n",
    "    req_string = str(api_call+'&'+polite)\n",
    "    req = requests.get(req_string)\n",
    "    if req.status_code == 200:\n",
    "        return req.json()\n",
    "    else:\n",
    "        print('Request not successful ', req.status_code)\n",
    "        return"
   ]
  },
  {
   "cell_type": "code",
   "execution_count": 5,
   "metadata": {
    "collapsed": false,
    "pycharm": {
     "name": "#%%\n"
    }
   },
   "outputs": [],
   "source": [
    "def random_author():\n",
    "    return request('https://api.openalex.org/authors/random?')"
   ]
  },
  {
   "cell_type": "code",
   "execution_count": 6,
   "metadata": {
    "collapsed": false,
    "pycharm": {
     "name": "#%%\n"
    }
   },
   "outputs": [
    {
     "name": "stdout",
     "output_type": "stream",
     "text": [
      "Author count total:  263.18M\n",
      "Author count total:  263184238\n"
     ]
    }
   ],
   "source": [
    "# check items for each publication year\n",
    "req_json = request('https://api.openalex.org/authors?')\n",
    "print('Author count total: ',numerize.numerize(req_json['meta']['count'])) # ~244 mio. on 24. June\n",
    "print('Author count total: ',(req_json['meta']['count']))"
   ]
  },
  {
   "cell_type": "code",
   "execution_count": 8,
   "metadata": {
    "collapsed": false,
    "pycharm": {
     "name": "#%%\n"
    }
   },
   "outputs": [
    {
     "name": "stdout",
     "output_type": "stream",
     "text": [
      "Author ORCID count total: 4.66M\n",
      "That is 1.77 % of all authors\n"
     ]
    },
    {
     "data": {
      "text/plain": [
       "4655832"
      ]
     },
     "execution_count": 8,
     "metadata": {},
     "output_type": "execute_result"
    }
   ],
   "source": [
    "# how many of these authors have their canonical external ID (ORCID) maintained?\n",
    "req_json = request('https://api.openalex.org/authors?filter=has_orcid:true')\n",
    "print('Author ORCID count total:',numerize.numerize(req_json['meta']['count'])) # ~4.87 mio. on 22. June\n",
    "print('That is',numerize.numerize(100*req_json['meta']['count']/request('https://api.openalex.org/authors?')['meta']['count']), '% of all authors')\n",
    "req_json['meta']['count']"
   ]
  },
  {
   "cell_type": "code",
   "execution_count": 14,
   "metadata": {
    "collapsed": false,
    "pycharm": {
     "name": "#%%\n"
    }
   },
   "outputs": [
    {
     "name": "stdout",
     "output_type": "stream",
     "text": [
      "Author ORCID count total: 4.61M\n"
     ]
    }
   ],
   "source": [
    "# ORCID for years #HOW-TO??\n",
    "req_json = request('https://api.openalex.org/authors?filter=has_orcid:true')\n",
    "print('Author ORCID count total:',numerize.numerize(req_json['meta']['count']))\n"
   ]
  },
  {
   "cell_type": "code",
   "execution_count": 8,
   "metadata": {
    "collapsed": false,
    "pycharm": {
     "name": "#%%\n"
    }
   },
   "outputs": [
    {
     "name": "stdout",
     "output_type": "stream",
     "text": [
      "Authors with more than 1 work:  43.4M\n",
      "That is  16.55 % of all authors\n"
     ]
    }
   ],
   "source": [
    "# how many of these authors have more than 1 work associated\n",
    "req_json = request('https://api.openalex.org/authors?filter=works_count:>1')\n",
    "print('Authors with more than 1 work: ',numerize.numerize(req_json['meta']['count'])) #\n",
    "print('That is ',numerize.numerize(100*req_json['meta']['count']/request('https://api.openalex.org/authors?')['meta']['count']), '% of all authors')"
   ]
  },
  {
   "cell_type": "code",
   "execution_count": 9,
   "metadata": {
    "collapsed": false,
    "pycharm": {
     "name": "#%%\n"
    }
   },
   "outputs": [
    {
     "name": "stdout",
     "output_type": "stream",
     "text": [
      "Authors with exactly 1 work:  216.54M\n",
      "That is  82.56 % of all authors\n"
     ]
    }
   ],
   "source": [
    "    # how many of these authors have exactly 1 work associated\n",
    "req_json = request('https://api.openalex.org/authors?filter=works_count:1')\n",
    "print('Authors with exactly 1 work: ',numerize.numerize(req_json['meta']['count'])) #\n",
    "print('That is ',numerize.numerize(100*req_json['meta']['count']/request('https://api.openalex.org/authors?')['meta']['count']), '% of all authors')"
   ]
  },
  {
   "cell_type": "code",
   "execution_count": 10,
   "metadata": {
    "collapsed": false,
    "pycharm": {
     "name": "#%%\n"
    }
   },
   "outputs": [
    {
     "name": "stdout",
     "output_type": "stream",
     "text": [
      "Authors with less than 1 work:  1.29M\n",
      "That is  0.49 % of all authors\n"
     ]
    }
   ],
   "source": [
    "# how many of these authors have less than one work associated (no publ. at all) ???!\n",
    "req_json = request('https://api.openalex.org/authors?filter=works_count:0')\n",
    "print('Authors with less than 1 work: ',numerize.numerize(req_json['meta']['count'])) #\n",
    "print('That is ',numerize.numerize(100*req_json['meta']['count']/request('https://api.openalex.org/authors?')['meta']['count']), '% of all authors')"
   ]
  },
  {
   "cell_type": "code",
   "execution_count": 18,
   "metadata": {
    "collapsed": false,
    "pycharm": {
     "name": "#%%\n"
    }
   },
   "outputs": [
    {
     "name": "stdout",
     "output_type": "stream",
     "text": [
      "Authors with exactly 2 work:  19.13M 7.3 %\n",
      "Authors with exactly 3 work:  7.03M 2.68 %\n",
      "Authors with exactly 4 work:  3.72M 1.42 %\n",
      "Authors with more than 4 [>=5] work:  13.5M 5.15 %\n",
      "That is  5.15 % of all authors\n"
     ]
    }
   ],
   "source": [
    "# how many of these authors have more than 1 work associated\n",
    "req_json = request('https://api.openalex.org/authors?filter=works_count:2')\n",
    "print('Authors with exactly 2 work: ',numerize.numerize(req_json['meta']['count']),numerize.numerize(100*req_json['meta']['count']/request('https://api.openalex.org/authors?')['meta']['count']), '%')\n",
    "req_json = request('https://api.openalex.org/authors?filter=works_count:3')\n",
    "print('Authors with exactly 3 work: ',numerize.numerize(req_json['meta']['count']),numerize.numerize(100*req_json['meta']['count']/request('https://api.openalex.org/authors?')['meta']['count']), '%')\n",
    "req_json = request('https://api.openalex.org/authors?filter=works_count:4')\n",
    "print('Authors with exactly 4 work: ',numerize.numerize(req_json['meta']['count']),numerize.numerize(100*req_json['meta']['count']/request('https://api.openalex.org/authors?')['meta']['count']), '%')\n",
    "req_json = request('https://api.openalex.org/authors?filter=works_count:>4')\n",
    "print('Authors with more than 4 [>=5] work: ',numerize.numerize(req_json['meta']['count']),numerize.numerize(100*req_json['meta']['count']/request('https://api.openalex.org/authors?')['meta']['count']), '%') #\n",
    "print('That is ',numerize.numerize(100*req_json['meta']['count']/request('https://api.openalex.org/authors?')['meta']['count']), '% of all authors')"
   ]
  },
  {
   "cell_type": "code",
   "execution_count": 43,
   "metadata": {
    "collapsed": false,
    "pycharm": {
     "name": "#%%\n"
    }
   },
   "outputs": [
    {
     "name": "stdout",
     "output_type": "stream",
     "text": [
      "Cited by count top 5\n",
      "Douglas G. Altman  :  602089\n",
      "Eric S. Lander  :  597930\n",
      "David Moher  :  447149\n",
      "Walter C. Willett  :  440535\n",
      "Yoshua Bengio  :  431727\n"
     ]
    }
   ],
   "source": [
    "# curious: see most cited authors overall\n",
    "req_json = request('https://api.openalex.org/authors?sort=cited_by_count:desc')\n",
    "\n",
    "print('Cited by count top five')\n",
    "for i in range(5):\n",
    "    print(req_json['results'][i]['display_name'], ' : ', req_json['results'][i]['cited_by_count'])"
   ]
  },
  {
   "cell_type": "code",
   "execution_count": 44,
   "metadata": {
    "collapsed": false,
    "pycharm": {
     "name": "#%%\n"
    }
   },
   "outputs": [
    {
     "name": "stdout",
     "output_type": "stream",
     "text": [
      "Works count top five authors\n",
      "Charles Thomas Parker  :  93877\n",
      "George M. Garrity  :  87350\n",
      "Dorothea Taylor  :  18953\n",
      "Ashok Kumar  :  6919\n",
      "George M Garrity  :  6888\n"
     ]
    }
   ],
   "source": [
    "# curious: see highest output authors\n",
    "req_json = request('https://api.openalex.org/authors?sort=works_count:desc')\n",
    "\n",
    "print('Works count top five authors')\n",
    "for i in range(5):\n",
    "    print(req_json['results'][i]['display_name'], ' : ', req_json['results'][i]['works_count'])\n"
   ]
  },
  {
   "cell_type": "code",
   "execution_count": null,
   "metadata": {
    "collapsed": false,
    "pycharm": {
     "name": "#%%\n"
    }
   },
   "outputs": [],
   "source": [
    "req_json = request('https://api.openalex.org/authors?group_by=last_known_institution.type')\n",
    "author_per_institution_type = {}\n",
    "for item in req_json['group_by']:\n",
    "    author_per_institution_type[item['key_display_name']] = item['count']\n",
    "    print(item['key_display_name'], item['count'],numerize.numerize(item['count']/request('https://api.openalex.org/authors?')['meta']['count']*100), '%') #)\n",
    "# many unknowns -> usefulness questionable"
   ]
  },
  {
   "cell_type": "code",
   "execution_count": null,
   "metadata": {
    "collapsed": false,
    "pycharm": {
     "name": "#%%\n"
    }
   },
   "outputs": [],
   "source": [
    "# print avg. authors per institution type\n",
    "# first, # institutions by type\n",
    "req_json = request('https://api.openalex.org/institutions?group_by=type')\n",
    "institution_type_count = {}\n",
    "for item in req_json['group_by']:\n",
    "    institution_type_count[item['key_display_name']] = item['count']\n",
    "    print(item['key_display_name'],item['count'])\n",
    "\n",
    "for k in institution_type_count.keys():\n",
    "    print('Avg. no. of authors in',k,':',author_per_institution_type[k]/institution_type_count[k])\n"
   ]
  },
  {
   "cell_type": "code",
   "execution_count": 18,
   "metadata": {
    "collapsed": false,
    "pycharm": {
     "name": "#%%\n"
    }
   },
   "outputs": [
    {
     "data": {
      "text/plain": [
       "{'unknown': 187674894,\n",
       " 'United States of America': 13595022,\n",
       " 'China': 11063692,\n",
       " 'United Kingdom of Great Britain and Northern Ireland': 2923508,\n",
       " 'Japan': 2653188,\n",
       " 'Germany': 2172109,\n",
       " 'India': 1944796,\n",
       " 'France': 1639115,\n",
       " 'Brazil': 1628645,\n",
       " 'Canada': 1406749,\n",
       " 'Russian Federation': 1091979,\n",
       " 'Korea, Republic of': 1024174,\n",
       " 'Spain': 974068,\n",
       " 'Italy': 962073,\n",
       " 'Australia': 894150,\n",
       " 'Taiwan, Province of China': 806415,\n",
       " 'Indonesia': 766610,\n",
       " 'Iran, Islamic Republic of': 715635,\n",
       " 'Netherlands': 630414,\n",
       " 'Switzerland': 503001,\n",
       " 'Mexico': 488849,\n",
       " 'Poland': 459628,\n",
       " 'Turkey': 358858,\n",
       " 'Sweden': 346142,\n",
       " 'Belgium': 313389,\n",
       " 'Malaysia': 311354,\n",
       " 'Egypt': 284903,\n",
       " 'Israel': 281759,\n",
       " 'Colombia': 277427,\n",
       " 'Denmark': 243248,\n",
       " 'Czechia': 241564,\n",
       " 'Pakistan': 238385,\n",
       " 'South Africa': 236352,\n",
       " 'Austria': 223299,\n",
       " 'Singapore': 221744,\n",
       " 'Finland': 211946,\n",
       " 'Ukraine': 208383,\n",
       " 'Nigeria': 207030,\n",
       " 'Argentina': 198758,\n",
       " 'Greece': 191220,\n",
       " 'Thailand': 184993,\n",
       " 'Ireland': 170566,\n",
       " 'Portugal': 169162,\n",
       " 'Norway': 166254,\n",
       " 'Chile': 163095,\n",
       " 'New Zealand': 151162,\n",
       " 'Saudi Arabia': 139155,\n",
       " 'Hungary': 137943,\n",
       " 'Bangladesh': 116698,\n",
       " 'Slovakia': 109047,\n",
       " 'Romania': 92764,\n",
       " 'Ecuador': 83012,\n",
       " 'Viet Nam': 74379,\n",
       " 'Peru': 74282,\n",
       " 'Bulgaria': 72913,\n",
       " 'Philippines': 72087,\n",
       " 'Serbia': 68446,\n",
       " 'Morocco': 62106,\n",
       " 'Ethiopia': 58066,\n",
       " 'Venezuela, Bolivarian Republic of': 57853,\n",
       " 'Croatia': 54222,\n",
       " 'Nepal': 53505,\n",
       " 'Iraq': 47134,\n",
       " 'Tunisia': 45967,\n",
       " 'Ghana': 45526,\n",
       " 'Kenya': 43827,\n",
       " 'Slovenia': 43032,\n",
       " 'Sri Lanka': 41837,\n",
       " 'Costa Rica': 41784,\n",
       " 'Lithuania': 38323,\n",
       " 'United Arab Emirates': 37209,\n",
       " 'Jordan': 36451,\n",
       " 'Cuba': 36265,\n",
       " 'Algeria': 32769,\n",
       " 'Belarus': 32394,\n",
       " 'Uzbekistan': 31222,\n",
       " 'Qatar': 31119,\n",
       " 'Lebanon': 29559,\n",
       " 'Kazakhstan': 28706,\n",
       " 'Virgin Islands, British': 27321,\n",
       " 'Mozambique': 26343,\n",
       " 'Uruguay': 26152,\n",
       " 'Latvia': 26066,\n",
       " 'Estonia': 25525,\n",
       " 'Bahrain': 24336,\n",
       " 'Armenia': 23755,\n",
       " 'Cameroon': 22926,\n",
       " 'Uganda': 21395,\n",
       " 'Kuwait': 20632,\n",
       " 'Moldova, Republic of': 17009,\n",
       " 'Yemen': 16870,\n",
       " 'Cambodia': 16858,\n",
       " 'Tanzania, United Republic of': 16848,\n",
       " 'Zimbabwe': 16033,\n",
       " 'Sudan': 16027,\n",
       " 'Cyprus': 15965,\n",
       " 'Oman': 15866,\n",
       " 'Hong Kong': 15829,\n",
       " 'Luxembourg': 13938,\n",
       " 'Azerbaijan': 13103,\n",
       " 'Jamaica': 12439,\n",
       " 'Antigua and Barbuda': 12101,\n",
       " \"Lao People's Democratic Republic\": 11022,\n",
       " 'Bosnia and Herzegovina': 10893,\n",
       " 'Palestine, State of': 10367,\n",
       " 'Bolivia, Plurinational State of': 10284,\n",
       " 'Syrian Arab Republic': 9725,\n",
       " 'Georgia': 9343,\n",
       " 'Paraguay': 9250,\n",
       " 'Iceland': 8969,\n",
       " 'Benin': 8497,\n",
       " 'Albania': 7846,\n",
       " 'Panama': 7790,\n",
       " 'Puerto Rico': 7710,\n",
       " 'Mongolia': 7179,\n",
       " 'Zambia': 6778,\n",
       " \"Côte d'Ivoire\": 6641,\n",
       " 'Senegal': 6381,\n",
       " 'Nicaragua': 5982,\n",
       " 'El Salvador': 5901,\n",
       " 'Congo, Democratic Republic of the': 5782,\n",
       " 'Barbados': 5656,\n",
       " 'Malta': 5621,\n",
       " 'Guatemala': 4924,\n",
       " 'North Macedonia': 4901,\n",
       " 'Botswana': 4894,\n",
       " 'Libya': 4715,\n",
       " 'Myanmar': 4665,\n",
       " 'Malawi': 4474,\n",
       " 'Honduras': 4348,\n",
       " 'Burkina Faso': 4229,\n",
       " 'Kosovo': 4141,\n",
       " 'Saint Kitts and Nevis': 4027,\n",
       " 'Mauritius': 3911,\n",
       " 'Rwanda': 3895,\n",
       " 'Mali': 3879,\n",
       " 'Dominican Republic': 3575,\n",
       " 'Tajikistan': 3539,\n",
       " 'Montenegro': 3159,\n",
       " 'Grenada': 2950,\n",
       " 'Brunei Darussalam': 2890,\n",
       " 'Papua New Guinea': 2672,\n",
       " 'Kyrgyzstan': 2648,\n",
       " 'Namibia': 2465,\n",
       " 'Fiji': 2444,\n",
       " 'Togo': 2340,\n",
       " 'Madagascar': 2186,\n",
       " 'Angola': 2124,\n",
       " 'Réunion': 2084,\n",
       " \"Korea, Democratic People's Republic of\": 1887,\n",
       " 'Gabon': 1874,\n",
       " 'Niger': 1669,\n",
       " 'Sao Tome and Principe': 1621,\n",
       " 'Guadeloupe': 1616,\n",
       " 'Afghanistan': 1482,\n",
       " 'Guinea': 1328,\n",
       " 'Curaçao': 1281,\n",
       " 'Congo': 1243,\n",
       " 'Sierra Leone': 995,\n",
       " 'Trinidad and Tobago': 994,\n",
       " 'South Sudan': 820,\n",
       " 'Eswatini': 790,\n",
       " 'Lesotho': 705,\n",
       " 'Gambia': 483,\n",
       " 'Bhutan': 481,\n",
       " 'Liechtenstein': 480,\n",
       " 'Maldives': 462,\n",
       " 'Belize': 458,\n",
       " 'Guinea-Bissau': 439,\n",
       " 'Burundi': 437,\n",
       " 'Bermuda': 423,\n",
       " 'Guyana': 394,\n",
       " 'Svalbard and Jan Mayen': 381,\n",
       " 'French Polynesia': 371,\n",
       " 'Bahamas': 362,\n",
       " 'Suriname': 355,\n",
       " 'Somalia': 354,\n",
       " 'New Caledonia': 313,\n",
       " 'Mauritania': 303,\n",
       " 'Chad': 297,\n",
       " 'Sint Maarten (Dutch part)': 270,\n",
       " 'Jersey': 234,\n",
       " 'French Guiana': 232,\n",
       " 'Eritrea': 224,\n",
       " 'Liberia': 224,\n",
       " 'Seychelles': 210,\n",
       " 'Turkmenistan': 195,\n",
       " 'Cabo Verde': 177,\n",
       " 'Faroe Islands': 163,\n",
       " 'Greenland': 161,\n",
       " 'Haiti': 143,\n",
       " 'Samoa': 142,\n",
       " 'Martinique': 123,\n",
       " 'Monaco': 118,\n",
       " 'Cayman Islands': 107,\n",
       " 'Central African Republic': 106,\n",
       " 'Montserrat': 96,\n",
       " 'Saint Lucia': 73,\n",
       " 'Saint Vincent and the Grenadines': 71,\n",
       " 'Macao': 64}"
      ]
     },
     "execution_count": 18,
     "metadata": {},
     "output_type": "execute_result"
    }
   ],
   "source": [
    "req_json = request('https://api.openalex.org/authors?group_by=last_known_institution.country_code')\n",
    "author_per_institution_country = {}\n",
    "for item in req_json['group_by']:\n",
    "    author_per_institution_country[item['key_display_name']] = item['count']\n",
    "# many unknowns -> usefulness questionable"
   ]
  },
  {
   "cell_type": "code",
   "execution_count": null,
   "metadata": {
    "collapsed": false,
    "pycharm": {
     "name": "#%%\n"
    }
   },
   "outputs": [],
   "source": [
    "req_json = request('https://api.openalex.org/authors?group_by=last_known_institution')\n",
    "author_per_institution = {}\n",
    "for item in req_json['group_by']:\n",
    "    author_per_institution_country[item['key_display_name']] = item['count']\n",
    "# many unknowns -> usefulness questionable\n"
   ]
  }
 ],
 "metadata": {
  "kernelspec": {
   "display_name": "Python 3",
   "language": "python",
   "name": "python3"
  },
  "language_info": {
   "codemirror_mode": {
    "name": "ipython",
    "version": 2
   },
   "file_extension": ".py",
   "mimetype": "text/x-python",
   "name": "python",
   "nbconvert_exporter": "python",
   "pygments_lexer": "ipython2",
   "version": "2.7.6"
  }
 },
 "nbformat": 4,
 "nbformat_minor": 0
}
